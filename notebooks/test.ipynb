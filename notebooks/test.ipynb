{
 "cells": [
  {
   "cell_type": "code",
   "execution_count": 42,
   "metadata": {},
   "outputs": [],
   "source": [
    "from typing import List\n",
    "import pandas as pd\n",
    "import plotly.express as px\n",
    "from typing import Optional\n",
    "import os \n",
    "import time\n",
    "import datetime\n"
   ]
  },
  {
   "cell_type": "code",
   "execution_count": 43,
   "metadata": {},
   "outputs": [],
   "source": [
    "def check_ping(hostname: str):\n",
    "    hostname = hostname\n",
    "    response = os.system(\"ping -n 1 \" + hostname)\n",
    "    # and then check the response...\n",
    "    if response == 0:\n",
    "        pingstatus = \"Network Active\"\n",
    "    else:\n",
    "        pingstatus = \"Network Error\"\n",
    "    \n",
    "    return pingstatus\n"
   ]
  },
  {
   "cell_type": "code",
   "execution_count": 44,
   "metadata": {},
   "outputs": [
    {
     "data": {
      "text/html": [
       "<div>\n",
       "<style scoped>\n",
       "    .dataframe tbody tr th:only-of-type {\n",
       "        vertical-align: middle;\n",
       "    }\n",
       "\n",
       "    .dataframe tbody tr th {\n",
       "        vertical-align: top;\n",
       "    }\n",
       "\n",
       "    .dataframe thead th {\n",
       "        text-align: right;\n",
       "    }\n",
       "</style>\n",
       "<table border=\"1\" class=\"dataframe\">\n",
       "  <thead>\n",
       "    <tr style=\"text-align: right;\">\n",
       "      <th></th>\n",
       "      <th>time</th>\n",
       "      <th>hostname</th>\n",
       "      <th>return_status</th>\n",
       "    </tr>\n",
       "  </thead>\n",
       "  <tbody>\n",
       "    <tr>\n",
       "      <th>0</th>\n",
       "      <td>2024-07-13 00:57:19.003037</td>\n",
       "      <td>google.com</td>\n",
       "      <td>Network Active</td>\n",
       "    </tr>\n",
       "    <tr>\n",
       "      <th>1</th>\n",
       "      <td>2024-07-13 00:57:20.300581</td>\n",
       "      <td>google.com</td>\n",
       "      <td>Network Active</td>\n",
       "    </tr>\n",
       "    <tr>\n",
       "      <th>2</th>\n",
       "      <td>2024-07-13 00:57:21.457583</td>\n",
       "      <td>google.com</td>\n",
       "      <td>Network Active</td>\n",
       "    </tr>\n",
       "  </tbody>\n",
       "</table>\n",
       "</div>"
      ],
      "text/plain": [
       "                         time    hostname   return_status\n",
       "0  2024-07-13 00:57:19.003037  google.com  Network Active\n",
       "1  2024-07-13 00:57:20.300581  google.com  Network Active\n",
       "2  2024-07-13 00:57:21.457583  google.com  Network Active"
      ]
     },
     "execution_count": 44,
     "metadata": {},
     "output_type": "execute_result"
    }
   ],
   "source": [
    "outputfile_base = \"ping_output\"\n",
    "outputfile = os.path.join(os.curdir, f\"{outputfile_base}.csv\")\n",
    "outputfile_df = os.path.join(os.curdir, f\"{outputfile_base}_df.csv\")\n",
    "\n",
    "ping_output_lst = []\n",
    "with open(outputfile, \"w\") as f:\n",
    "    cols = \"time,hostname,return_status\\n\"\n",
    "    f.write(cols)\n",
    "    for i in range(0, 3):\n",
    "        time.sleep(5)\n",
    "        cur_time = datetime.datetime.now()\n",
    "        cur_time = pd.to_datetime(cur_time)\n",
    "        google_ret_status = check_ping(\"google.com\")\n",
    "        \n",
    "        cur_values = f\"{cur_time},google.com,{google_ret_status}\\n\"\n",
    "        print(f\"{cur_values}\")\n",
    "        f.write(cur_values)\n",
    "        f.flush()\n",
    "\n",
    "\n",
    "ping_df = pd.read_csv(outputfile)\n",
    "ping_df.to_csv(outputfile_df)\n",
    "ping_df.head()"
   ]
  },
  {
   "cell_type": "code",
   "execution_count": 45,
   "metadata": {},
   "outputs": [],
   "source": [
    "chart = px.histogram(\n",
    "    ping_df,\n",
    "    x = \"time\",\n",
    "    color = 'hostname',\n",
    "    facet_row='return_status',\n",
    "    title='Distribution of Pings'\n",
    ")\n",
    "chart.write_html( os.path.join(os.curdir, f\"{outputfile_base}_hist.html\"))\n",
    "\n",
    "chart = px.scatter(\n",
    "    ping_df,\n",
    "    x = \"time\",\n",
    "    y = 'return_status',\n",
    "    color = 'hostname',\n",
    "    title='Scatter of Pings'\n",
    ")\n",
    "chart.write_html( os.path.join(os.curdir, f\"{outputfile_base}_scatter.html\"))"
   ]
  }
 ],
 "metadata": {
  "kernelspec": {
   "display_name": "Python 3",
   "language": "python",
   "name": "python3"
  },
  "language_info": {
   "codemirror_mode": {
    "name": "ipython",
    "version": 3
   },
   "file_extension": ".py",
   "mimetype": "text/x-python",
   "name": "python",
   "nbconvert_exporter": "python",
   "pygments_lexer": "ipython3",
   "version": "3.11.5"
  }
 },
 "nbformat": 4,
 "nbformat_minor": 2
}
